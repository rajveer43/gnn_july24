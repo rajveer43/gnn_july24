{
  "nbformat": 4,
  "nbformat_minor": 0,
  "metadata": {
    "colab": {
      "provenance": [],
      "gpuType": "T4",
      "authorship_tag": "ABX9TyOVRGaFcsaYmkXgKBUocUod",
      "include_colab_link": true
    },
    "kernelspec": {
      "name": "python3",
      "display_name": "Python 3"
    },
    "language_info": {
      "name": "python"
    },
    "accelerator": "GPU"
  },
  "cells": [
    {
      "cell_type": "markdown",
      "metadata": {
        "id": "view-in-github",
        "colab_type": "text"
      },
      "source": [
        "<a href=\"https://colab.research.google.com/github/rajveer43/gnn_july24/blob/master/GNN_2.ipynb\" target=\"_parent\"><img src=\"https://colab.research.google.com/assets/colab-badge.svg\" alt=\"Open In Colab\"/></a>"
      ]
    },
    {
      "cell_type": "code",
      "execution_count": 2,
      "metadata": {
        "colab": {
          "base_uri": "https://localhost:8080/"
        },
        "id": "DGl_A1TDokjR",
        "outputId": "20cac940-74fd-4acc-d0d4-82173611bdeb"
      },
      "outputs": [
        {
          "output_type": "stream",
          "name": "stdout",
          "text": [
            "2.3.1+cu121\n",
            "\u001b[31mERROR: Could not find a version that satisfies the requirement pyg-lib (from versions: none)\u001b[0m\u001b[31m\n",
            "\u001b[0m\u001b[31mERROR: No matching distribution found for pyg-lib\u001b[0m\u001b[31m\n",
            "\u001b[2K     \u001b[90m━━━━━━━━━━━━━━━━━━━━━━━━━━━━━━━━━━━━━━━━\u001b[0m \u001b[32m64.2/64.2 kB\u001b[0m \u001b[31m2.5 MB/s\u001b[0m eta \u001b[36m0:00:00\u001b[0m\n",
            "\u001b[2K   \u001b[90m━━━━━━━━━━━━━━━━━━━━━━━━━━━━━━━━━━━━━━━━\u001b[0m \u001b[32m1.1/1.1 MB\u001b[0m \u001b[31m24.1 MB/s\u001b[0m eta \u001b[36m0:00:00\u001b[0m\n",
            "\u001b[?25h"
          ]
        }
      ],
      "source": [
        "import os\n",
        "import torch\n",
        "\n",
        "os.environ['TORCH'] = torch.__version__\n",
        "os.environ['CUDA'] = torch.version.cuda\n",
        "print(os.environ['TORCH'])\n",
        "\n",
        "!pip install -q pyg-lib torch-scatter torch-sparse torch-cluster torch-spline-conv -f https://data.pyg.org/whl/torch-${TORCH}.html\n",
        "!pip install -q torch-geometric\n",
        "\n",
        "from torch.nn import ReLU, Softmax, LogSoftmax\n",
        "import torch.nn.functional as F\n",
        "import torch_geometric\n",
        "from torch_geometric.datasets import DBLP\n",
        "import torch_geometric.transforms as T\n",
        "from torch_geometric.nn.conv import MessagePassing\n",
        "from torch_geometric.nn import Sequential, Linear, GCNConv, SAGEConv, to_hetero\n",
        "from torch_geometric.utils import spmm\n",
        "\n",
        "import math\n",
        "import time\n",
        "import numpy as np\n",
        "import pandas as pd\n",
        "import matplotlib.pyplot as plt\n",
        "import seaborn as sns\n",
        "\n",
        "import warnings\n",
        "warnings.filterwarnings(\"ignore\")\n",
        "\n",
        "sns.reset_defaults()\n",
        "sns.set_theme(rc={\"figure.dpi\": 72, \"savefig.dpi\": 300,\n",
        "              \"figure.autolayout\": True})\n",
        "sns.set_style(\"ticks\")\n",
        "sns.set_context(\"paper\")\n",
        "\n",
        "np.set_printoptions(precision=4)\n",
        "\n",
        "device = torch.device('cuda' if torch.cuda.is_available() else 'cpu')"
      ]
    },
    {
      "cell_type": "code",
      "source": [
        "dataset = DBLP(\"q1\")\n",
        "data = dataset[0]"
      ],
      "metadata": {
        "colab": {
          "base_uri": "https://localhost:8080/"
        },
        "id": "fJ3ClKcSp_gn",
        "outputId": "8f6f92ca-4747-4693-f9e6-c4882c96b2fc"
      },
      "execution_count": 3,
      "outputs": [
        {
          "output_type": "stream",
          "name": "stderr",
          "text": [
            "Downloading https://www.dropbox.com/s/yh4grpeks87ugr2/DBLP_processed.zip?dl=1\n",
            "Extracting q1/raw/DBLP_processed.zip\n",
            "Processing...\n",
            "Done!\n"
          ]
        }
      ]
    },
    {
      "cell_type": "code",
      "source": [
        "\n",
        "num_classes = len(np.unique(data[\"author\"].y))\n",
        "print(dataset)\n",
        "print(\"Number of graphs:\", len(dataset))\n",
        "print(\"Number of nodes:\", data.num_nodes)\n",
        "print(\"Number of edges:\", data.num_edges)\n",
        "print(\"Number of node features:\", data.num_node_features)\n",
        "print(\"Number of edge features:\", data.num_edge_features)\n",
        "print(\"Number of classes:\", num_classes)\n",
        "print(\"Average node degree:\", round(data.num_edges / data.num_nodes, 2))\n",
        "print(\"Number of training nodes:\", data[\"author\"].train_mask.sum().item())\n",
        "print(\"Number of validation nodes:\", data[\"author\"].val_mask.sum().item())\n",
        "print(\"Number of test nodes:\", data[\"author\"].test_mask.sum().item())\n",
        "print(\"Is directed:\", data.is_directed())\n",
        "print(\"Has isolated nodes:\", data.has_isolated_nodes())\n",
        "print(\"Has self loops:\", data.has_self_loops())\n",
        "print()\n",
        "print(\"Other information:\")\n",
        "print(data)"
      ],
      "metadata": {
        "colab": {
          "base_uri": "https://localhost:8080/"
        },
        "id": "zy_063Wwqdfq",
        "outputId": "f207cb82-4d6b-44a8-d71f-3efdbe6fb3de"
      },
      "execution_count": 4,
      "outputs": [
        {
          "output_type": "stream",
          "name": "stdout",
          "text": [
            "DBLP()\n",
            "Number of graphs: 1\n",
            "Number of nodes: 26128\n",
            "Number of edges: 239566\n",
            "Number of node features: {'author': 334, 'paper': 4231, 'term': 50, 'conference': 0}\n",
            "Number of edge features: {('author', 'to', 'paper'): 0, ('paper', 'to', 'author'): 0, ('paper', 'to', 'term'): 0, ('paper', 'to', 'conference'): 0, ('term', 'to', 'paper'): 0, ('conference', 'to', 'paper'): 0}\n",
            "Number of classes: 4\n",
            "Average node degree: 9.17\n",
            "Number of training nodes: 400\n",
            "Number of validation nodes: 400\n",
            "Number of test nodes: 3257\n",
            "Is directed: False\n",
            "Has isolated nodes: False\n",
            "Has self loops: False\n",
            "\n",
            "Other information:\n",
            "HeteroData(\n",
            "  author={\n",
            "    x=[4057, 334],\n",
            "    y=[4057],\n",
            "    train_mask=[4057],\n",
            "    val_mask=[4057],\n",
            "    test_mask=[4057],\n",
            "  },\n",
            "  paper={ x=[14328, 4231] },\n",
            "  term={ x=[7723, 50] },\n",
            "  conference={ num_nodes=20 },\n",
            "  (author, to, paper)={ edge_index=[2, 19645] },\n",
            "  (paper, to, author)={ edge_index=[2, 19645] },\n",
            "  (paper, to, term)={ edge_index=[2, 85810] },\n",
            "  (paper, to, conference)={ edge_index=[2, 14328] },\n",
            "  (term, to, paper)={ edge_index=[2, 85810] },\n",
            "  (conference, to, paper)={ edge_index=[2, 14328] }\n",
            ")\n"
          ]
        }
      ]
    },
    {
      "cell_type": "code",
      "source": [
        "data = T.Constant(node_types=\"conference\")(data)\n",
        "data = T.ToUndirected()(data)\n",
        "data = T.AddSelfLoops()(data)\n",
        "data = T.NormalizeFeatures()(data)\n",
        "data = data.to(device)\n",
        ""
      ],
      "metadata": {
        "id": "RwAGPNDgqklv"
      },
      "execution_count": 5,
      "outputs": []
    },
    {
      "cell_type": "code",
      "source": [
        "def train(model, optimizer):\n",
        "    model.train()\n",
        "    optimizer.zero_grad()\n",
        "    out = model(data.x_dict, data.edge_index_dict)\n",
        "    mask = data[\"author\"].train_mask\n",
        "    loss = F.cross_entropy(out[\"author\"][mask], data[\"author\"].y[mask])\n",
        "    loss.backward()\n",
        "    optimizer.step()\n",
        "    return float(loss)\n",
        "\n",
        "\n",
        "def test(model):\n",
        "    model.eval()\n",
        "    pred = model(data.x_dict, data.edge_index_dict)[\"author\"].argmax(dim=-1)\n",
        "    accs = []\n",
        "    for split in ['train_mask', 'val_mask', 'test_mask']:\n",
        "        mask = data[\"author\"][split]\n",
        "        acc = (pred[mask] == data[\"author\"].y[mask]).sum() / mask.sum()\n",
        "        accs.append(float(acc))\n",
        "    return accs\n",
        "\n",
        "\n",
        "def epoch_plot(model, optimizer, max_epoch=100, save=\"epoch.png\"):\n",
        "    values = []\n",
        "    for i in range(max_epoch):\n",
        "        loss = train(model, optimizer)\n",
        "        accs = test(model)\n",
        "        values.append([i+1, loss, *accs])\n",
        "    df = pd.DataFrame(values, columns=[\"Epoch\", \"Loss\", \"Train\", \"Validation\", \"Test\"])\n",
        "    fig, ax = plt.subplots(1, 2, figsize=(10, 5))\n",
        "    sns.lineplot(data=df, x=\"Epoch\", y=\"Loss\", ax=ax[0])\n",
        "    sns.lineplot(data=df, x=\"Epoch\", y=\"Train\", label=\"Train\", ax=ax[1])\n",
        "    sns.lineplot(data=df, x=\"Epoch\", y=\"Validation\", label=\"Validation\", ax=ax[1])\n",
        "    sns.lineplot(data=df, x=\"Epoch\", y=\"Test\", label=\"Test\", ax=ax[1])\n",
        "    ax[1].set(ylabel=\"Accuracy\")\n",
        "    fig.savefig(save)\n",
        "    plt.show()\n",
        "\n",
        "\n",
        "def eval(model, optimizer, max_epoch=100):\n",
        "    values = []\n",
        "    t = time.time()\n",
        "    for i in range(max_epoch):\n",
        "        loss = train(model, optimizer)\n",
        "        accs = test(model)\n",
        "        values.append([i+1, loss, *accs])\n",
        "    t = time.time() - t\n",
        "    df = pd.DataFrame(values, columns=[\"Epoch\", \"Loss\", \"Train\", \"Validation\", \"Test\"])\n",
        "    acc = df.iloc[-1, -1]\n",
        "    print(f\"Accuracy: {acc:.4f}\")\n",
        "    print(f\"Computation Time: {t:.4f}s\")"
      ],
      "metadata": {
        "id": "jKvaLkXKqrAY"
      },
      "execution_count": 16,
      "outputs": []
    },
    {
      "cell_type": "code",
      "source": [
        "class SGC(MessagePassing):\n",
        "    def __init__(self, in_channels, out_channels, K, **kwargs):\n",
        "        super().__init__(**kwargs)\n",
        "        self.in_channels = in_channels\n",
        "        self.out_channels = out_channels\n",
        "        self.K = K\n",
        "        self.lin = Linear(in_channels, out_channels, bias=True)\n",
        "        self.reset_parameters()\n",
        "\n",
        "    def reset_parameters(self):\n",
        "        self.lin.reset_parameters()\n",
        "\n",
        "    def forward(self, x, edge_index, size=None):\n",
        "        for k in range(self.K):\n",
        "            x = self.propagate(edge_index, x=x, size=size)\n",
        "        return self.lin(x)\n",
        "\n",
        "    def message(self, x_j):\n",
        "        return x_j\n",
        "\n",
        "    def message_and_aggregate(self, adj_t, x):\n",
        "        return spmm(adj_t, x, reduce=self.aggr)\n",
        "\n"
      ],
      "metadata": {
        "id": "nfbDxmIuqw6T"
      },
      "execution_count": 17,
      "outputs": []
    },
    {
      "cell_type": "code",
      "source": [
        "def gcn(hidden_channels=64):\n",
        "    \"\"\"GCN net implemeted similar to the original paper\"\"\"\n",
        "    torch.manual_seed(1234567)\n",
        "    layers = [\n",
        "        (SAGEConv((-1, -1), hidden_channels, aggr=\"mean\"), 'x, edge_index -> x'),\n",
        "        ReLU(inplace=True),\n",
        "        (SAGEConv((-1, -1), num_classes, aggr=\"mean\"), 'x, edge_index -> x'),\n",
        "        Softmax(dim=1),\n",
        "    ]\n",
        "    model = Sequential('x, edge_index', layers)\n",
        "    model = to_hetero(model, data.metadata()).to(device)\n",
        "    return model\n",
        "\n",
        "\n",
        "def sgc():\n",
        "    \"\"\"SGC net implemeted similar to the original paper\"\"\"\n",
        "    torch.manual_seed(1234567)\n",
        "    layers = [\n",
        "        (SGC(-1, num_classes, K=1, aggr=\"mean\"), 'x, edge_index -> x'),\n",
        "        Softmax(dim=1),\n",
        "    ]\n",
        "    model = Sequential('x, edge_index', layers)\n",
        "    model = to_hetero(model, data.metadata()).to(device)\n",
        "    return model"
      ],
      "metadata": {
        "id": "cEWmjvnvq6k0"
      },
      "execution_count": 18,
      "outputs": []
    },
    {
      "cell_type": "code",
      "source": [
        "def mynet():\n",
        "    torch.manual_seed(1234567)\n",
        "    layers = [\n",
        "        (Linear(-1, 64), 'x -> x'),\n",
        "        (Linear(-1, num_classes), 'x -> x'),\n",
        "        Softmax(dim=1),\n",
        "    ]\n",
        "    model = Sequential('x, edge_index', layers)\n",
        "    model = to_hetero(model, data.metadata()).to(device)\n",
        "    return model\n",
        ""
      ],
      "metadata": {
        "id": "pan5iCpTrhy5"
      },
      "execution_count": 9,
      "outputs": []
    },
    {
      "cell_type": "code",
      "source": [
        "model = gcn(hidden_channels=64)\n",
        "optimizer = torch.optim.Adam(model.parameters(), lr=0.01)\n",
        "epoch_plot(model, optimizer, max_epoch=100, save=\"gcn_epoch.png\")"
      ],
      "metadata": {
        "colab": {
          "base_uri": "https://localhost:8080/",
          "height": 370
        },
        "id": "Ews84eWIrnwn",
        "outputId": "cca25830-6a04-4117-e6ba-1f68d48efaa0"
      },
      "execution_count": 10,
      "outputs": [
        {
          "output_type": "display_data",
          "data": {
            "text/plain": [
              "<Figure size 720x360 with 2 Axes>"
            ],
            "image/png": "[encoded data removed]"
          },
          "metadata": {}
        }
      ]
    },
    {
      "cell_type": "code",
      "source": [
        "model = gcn(hidden_channels=64)\n",
        "optimizer = torch.optim.Adam(model.parameters(), lr=0.01)\n",
        "eval(model, optimizer, max_epoch=100)"
      ],
      "metadata": {
        "colab": {
          "base_uri": "https://localhost:8080/"
        },
        "id": "prJFYapkrrXr",
        "outputId": "a8086318-8183-47ad-f47b-9f80dac19218"
      },
      "execution_count": 11,
      "outputs": [
        {
          "output_type": "stream",
          "name": "stdout",
          "text": [
            "Accuracy: 0.7897\n",
            "Computation Time: 23.1414s\n"
          ]
        }
      ]
    },
    {
      "cell_type": "code",
      "source": [
        "model = sgc()\n",
        "optimizer = torch.optim.Adam(model.parameters(), lr=0.1)\n",
        "epoch_plot(model, optimizer, max_epoch=100, save=\"sgc_epoch.png\")"
      ],
      "metadata": {
        "colab": {
          "base_uri": "https://localhost:8080/",
          "height": 370
        },
        "id": "RcdaNPYHsALR",
        "outputId": "db696218-decc-491f-e828-1ab30be4e2e4"
      },
      "execution_count": 19,
      "outputs": [
        {
          "output_type": "display_data",
          "data": {
            "text/plain": [
              "<Figure size 720x360 with 2 Axes>"
            ],
            "image/png": "[encoded data removed]"
          },
          "metadata": {}
        }
      ]
    },
    {
      "cell_type": "code",
      "source": [
        "model = mynet()\n",
        "optimizer = torch.optim.Adam(model.parameters(), lr=0.004)\n",
        "epoch_plot(model, optimizer, max_epoch=100, save=\"mynet_epoch.png\")"
      ],
      "metadata": {
        "id": "ho3-BZM_sD-H"
      },
      "execution_count": null,
      "outputs": []
    },
    {
      "cell_type": "code",
      "source": [
        "model = mynet()\n",
        "optimizer = torch.optim.Adam(model.parameters(), lr=0.004)\n",
        "eval(model, optimizer, max_epoch=100)"
      ],
      "metadata": {
        "id": "egmW_OTVsTfj"
      },
      "execution_count": null,
      "outputs": []
    },
    {
      "cell_type": "code",
      "source": [],
      "metadata": {
        "id": "IDp4SE3ksWfz"
      },
      "execution_count": null,
      "outputs": []
    }
  ]
}